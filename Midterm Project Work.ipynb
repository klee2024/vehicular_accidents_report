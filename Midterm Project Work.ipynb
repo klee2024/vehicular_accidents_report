{
 "cells": [
  {
   "cell_type": "markdown",
   "metadata": {},
   "source": [
    "# Chicago Crash Data"
   ]
  },
  {
   "cell_type": "code",
   "execution_count": null,
   "metadata": {},
   "outputs": [],
   "source": [
    "# anna poon's analysis"
   ]
  },
  {
   "cell_type": "code",
   "execution_count": 5,
   "metadata": {},
   "outputs": [],
   "source": [
    "import pandas as pd\n",
    "import numpy as np\n",
    "import matplotlib\n",
    "%matplotlib inline\n",
    "import matplotlib.pyplot as plt\n",
    "plt.style.use('fivethirtyeight')"
   ]
  },
  {
   "cell_type": "code",
   "execution_count": 6,
   "metadata": {},
   "outputs": [],
   "source": [
    "crash = pd.read_csv(\"traffic_crashes.csv\")"
   ]
  },
  {
   "cell_type": "code",
   "execution_count": 7,
   "metadata": {},
   "outputs": [
    {
     "data": {
      "text/html": [
       "<div>\n",
       "<style scoped>\n",
       "    .dataframe tbody tr th:only-of-type {\n",
       "        vertical-align: middle;\n",
       "    }\n",
       "\n",
       "    .dataframe tbody tr th {\n",
       "        vertical-align: top;\n",
       "    }\n",
       "\n",
       "    .dataframe thead th {\n",
       "        text-align: right;\n",
       "    }\n",
       "</style>\n",
       "<table border=\"1\" class=\"dataframe\">\n",
       "  <thead>\n",
       "    <tr style=\"text-align: right;\">\n",
       "      <th></th>\n",
       "      <th>CRASH_RECORD_ID</th>\n",
       "      <th>RD_NO</th>\n",
       "      <th>CRASH_DATE_EST_I</th>\n",
       "      <th>CRASH_DATE</th>\n",
       "      <th>POSTED_SPEED_LIMIT</th>\n",
       "      <th>TRAFFIC_CONTROL_DEVICE</th>\n",
       "      <th>DEVICE_CONDITION</th>\n",
       "      <th>WEATHER_CONDITION</th>\n",
       "      <th>LIGHTING_CONDITION</th>\n",
       "      <th>FIRST_CRASH_TYPE</th>\n",
       "      <th>...</th>\n",
       "      <th>INJURIES_NON_INCAPACITATING</th>\n",
       "      <th>INJURIES_REPORTED_NOT_EVIDENT</th>\n",
       "      <th>INJURIES_NO_INDICATION</th>\n",
       "      <th>INJURIES_UNKNOWN</th>\n",
       "      <th>CRASH_HOUR</th>\n",
       "      <th>CRASH_DAY_OF_WEEK</th>\n",
       "      <th>CRASH_MONTH</th>\n",
       "      <th>LATITUDE</th>\n",
       "      <th>LONGITUDE</th>\n",
       "      <th>LOCATION</th>\n",
       "    </tr>\n",
       "  </thead>\n",
       "  <tbody>\n",
       "    <tr>\n",
       "      <th>0</th>\n",
       "      <td>016eaf0b25d64bf0917f77ad2c7468196178eaea750a5f...</td>\n",
       "      <td>JE287447</td>\n",
       "      <td>NaN</td>\n",
       "      <td>07/02/2021 03:40:00 PM</td>\n",
       "      <td>20</td>\n",
       "      <td>NO CONTROLS</td>\n",
       "      <td>NO CONTROLS</td>\n",
       "      <td>CLEAR</td>\n",
       "      <td>DAYLIGHT</td>\n",
       "      <td>SIDESWIPE SAME DIRECTION</td>\n",
       "      <td>...</td>\n",
       "      <td>0.0</td>\n",
       "      <td>0.0</td>\n",
       "      <td>2.0</td>\n",
       "      <td>0.0</td>\n",
       "      <td>15</td>\n",
       "      <td>6</td>\n",
       "      <td>7</td>\n",
       "      <td>NaN</td>\n",
       "      <td>NaN</td>\n",
       "      <td>NaN</td>\n",
       "    </tr>\n",
       "    <tr>\n",
       "      <th>1</th>\n",
       "      <td>06ab00f94c073b8bd07ccf085935a800077ad9cee09490...</td>\n",
       "      <td>JE192048</td>\n",
       "      <td>NaN</td>\n",
       "      <td>04/07/2021 09:00:00 AM</td>\n",
       "      <td>20</td>\n",
       "      <td>NO CONTROLS</td>\n",
       "      <td>NO CONTROLS</td>\n",
       "      <td>CLEAR</td>\n",
       "      <td>DAYLIGHT</td>\n",
       "      <td>PARKED MOTOR VEHICLE</td>\n",
       "      <td>...</td>\n",
       "      <td>0.0</td>\n",
       "      <td>0.0</td>\n",
       "      <td>1.0</td>\n",
       "      <td>0.0</td>\n",
       "      <td>9</td>\n",
       "      <td>4</td>\n",
       "      <td>4</td>\n",
       "      <td>41.743068</td>\n",
       "      <td>-87.693816</td>\n",
       "      <td>POINT (-87.693815614874 41.743067832139)</td>\n",
       "    </tr>\n",
       "    <tr>\n",
       "      <th>2</th>\n",
       "      <td>176fbd45c70226ad9a63ff015d87090dd51b2674d0f23e...</td>\n",
       "      <td>JD181795</td>\n",
       "      <td>NaN</td>\n",
       "      <td>03/11/2020 10:00:00 AM</td>\n",
       "      <td>10</td>\n",
       "      <td>NO CONTROLS</td>\n",
       "      <td>NO CONTROLS</td>\n",
       "      <td>CLEAR</td>\n",
       "      <td>DAYLIGHT</td>\n",
       "      <td>REAR TO REAR</td>\n",
       "      <td>...</td>\n",
       "      <td>0.0</td>\n",
       "      <td>0.0</td>\n",
       "      <td>2.0</td>\n",
       "      <td>0.0</td>\n",
       "      <td>10</td>\n",
       "      <td>4</td>\n",
       "      <td>3</td>\n",
       "      <td>41.684308</td>\n",
       "      <td>-87.680775</td>\n",
       "      <td>POINT (-87.680774721691 41.68430795958)</td>\n",
       "    </tr>\n",
       "    <tr>\n",
       "      <th>3</th>\n",
       "      <td>242250246f9ea909eb5805f45125840489a1ea37fab7dd...</td>\n",
       "      <td>JC128630</td>\n",
       "      <td>NaN</td>\n",
       "      <td>01/24/2019 07:40:00 PM</td>\n",
       "      <td>30</td>\n",
       "      <td>NO CONTROLS</td>\n",
       "      <td>NO CONTROLS</td>\n",
       "      <td>CLEAR</td>\n",
       "      <td>DARKNESS, LIGHTED ROAD</td>\n",
       "      <td>SIDESWIPE SAME DIRECTION</td>\n",
       "      <td>...</td>\n",
       "      <td>0.0</td>\n",
       "      <td>0.0</td>\n",
       "      <td>2.0</td>\n",
       "      <td>0.0</td>\n",
       "      <td>19</td>\n",
       "      <td>5</td>\n",
       "      <td>1</td>\n",
       "      <td>41.886422</td>\n",
       "      <td>-87.644413</td>\n",
       "      <td>POINT (-87.64441278977 41.886421852271)</td>\n",
       "    </tr>\n",
       "  </tbody>\n",
       "</table>\n",
       "<p>4 rows × 49 columns</p>\n",
       "</div>"
      ],
      "text/plain": [
       "                                     CRASH_RECORD_ID     RD_NO  \\\n",
       "0  016eaf0b25d64bf0917f77ad2c7468196178eaea750a5f...  JE287447   \n",
       "1  06ab00f94c073b8bd07ccf085935a800077ad9cee09490...  JE192048   \n",
       "2  176fbd45c70226ad9a63ff015d87090dd51b2674d0f23e...  JD181795   \n",
       "3  242250246f9ea909eb5805f45125840489a1ea37fab7dd...  JC128630   \n",
       "\n",
       "  CRASH_DATE_EST_I              CRASH_DATE  POSTED_SPEED_LIMIT  \\\n",
       "0              NaN  07/02/2021 03:40:00 PM                  20   \n",
       "1              NaN  04/07/2021 09:00:00 AM                  20   \n",
       "2              NaN  03/11/2020 10:00:00 AM                  10   \n",
       "3              NaN  01/24/2019 07:40:00 PM                  30   \n",
       "\n",
       "  TRAFFIC_CONTROL_DEVICE DEVICE_CONDITION WEATHER_CONDITION  \\\n",
       "0            NO CONTROLS      NO CONTROLS             CLEAR   \n",
       "1            NO CONTROLS      NO CONTROLS             CLEAR   \n",
       "2            NO CONTROLS      NO CONTROLS             CLEAR   \n",
       "3            NO CONTROLS      NO CONTROLS             CLEAR   \n",
       "\n",
       "       LIGHTING_CONDITION          FIRST_CRASH_TYPE  ...  \\\n",
       "0                DAYLIGHT  SIDESWIPE SAME DIRECTION  ...   \n",
       "1                DAYLIGHT      PARKED MOTOR VEHICLE  ...   \n",
       "2                DAYLIGHT              REAR TO REAR  ...   \n",
       "3  DARKNESS, LIGHTED ROAD  SIDESWIPE SAME DIRECTION  ...   \n",
       "\n",
       "  INJURIES_NON_INCAPACITATING  INJURIES_REPORTED_NOT_EVIDENT  \\\n",
       "0                         0.0                            0.0   \n",
       "1                         0.0                            0.0   \n",
       "2                         0.0                            0.0   \n",
       "3                         0.0                            0.0   \n",
       "\n",
       "  INJURIES_NO_INDICATION INJURIES_UNKNOWN CRASH_HOUR CRASH_DAY_OF_WEEK  \\\n",
       "0                    2.0              0.0         15                 6   \n",
       "1                    1.0              0.0          9                 4   \n",
       "2                    2.0              0.0         10                 4   \n",
       "3                    2.0              0.0         19                 5   \n",
       "\n",
       "  CRASH_MONTH   LATITUDE  LONGITUDE                                  LOCATION  \n",
       "0           7        NaN        NaN                                       NaN  \n",
       "1           4  41.743068 -87.693816  POINT (-87.693815614874 41.743067832139)  \n",
       "2           3  41.684308 -87.680775   POINT (-87.680774721691 41.68430795958)  \n",
       "3           1  41.886422 -87.644413   POINT (-87.64441278977 41.886421852271)  \n",
       "\n",
       "[4 rows x 49 columns]"
      ]
     },
     "execution_count": 7,
     "metadata": {},
     "output_type": "execute_result"
    }
   ],
   "source": [
    "crash.head(4)"
   ]
  },
  {
   "cell_type": "code",
   "execution_count": 8,
   "metadata": {},
   "outputs": [
    {
     "data": {
      "text/html": [
       "<div>\n",
       "<style scoped>\n",
       "    .dataframe tbody tr th:only-of-type {\n",
       "        vertical-align: middle;\n",
       "    }\n",
       "\n",
       "    .dataframe tbody tr th {\n",
       "        vertical-align: top;\n",
       "    }\n",
       "\n",
       "    .dataframe thead th {\n",
       "        text-align: right;\n",
       "    }\n",
       "</style>\n",
       "<table border=\"1\" class=\"dataframe\">\n",
       "  <thead>\n",
       "    <tr style=\"text-align: right;\">\n",
       "      <th></th>\n",
       "      <th>POSTED_SPEED_LIMIT</th>\n",
       "      <th>LANE_CNT</th>\n",
       "      <th>STREET_NO</th>\n",
       "      <th>BEAT_OF_OCCURRENCE</th>\n",
       "      <th>NUM_UNITS</th>\n",
       "      <th>INJURIES_TOTAL</th>\n",
       "      <th>INJURIES_FATAL</th>\n",
       "      <th>INJURIES_INCAPACITATING</th>\n",
       "      <th>INJURIES_NON_INCAPACITATING</th>\n",
       "      <th>INJURIES_REPORTED_NOT_EVIDENT</th>\n",
       "      <th>INJURIES_NO_INDICATION</th>\n",
       "      <th>INJURIES_UNKNOWN</th>\n",
       "      <th>CRASH_HOUR</th>\n",
       "      <th>CRASH_DAY_OF_WEEK</th>\n",
       "      <th>CRASH_MONTH</th>\n",
       "      <th>LATITUDE</th>\n",
       "      <th>LONGITUDE</th>\n",
       "    </tr>\n",
       "  </thead>\n",
       "  <tbody>\n",
       "    <tr>\n",
       "      <th>count</th>\n",
       "      <td>565687.000000</td>\n",
       "      <td>1.903210e+05</td>\n",
       "      <td>565687.000000</td>\n",
       "      <td>565682.000000</td>\n",
       "      <td>565687.000000</td>\n",
       "      <td>564517.000000</td>\n",
       "      <td>564517.000000</td>\n",
       "      <td>564517.000000</td>\n",
       "      <td>564517.000000</td>\n",
       "      <td>564517.000000</td>\n",
       "      <td>564517.000000</td>\n",
       "      <td>564517.0</td>\n",
       "      <td>565687.000000</td>\n",
       "      <td>565687.000000</td>\n",
       "      <td>565687.000000</td>\n",
       "      <td>562352.000000</td>\n",
       "      <td>562352.000000</td>\n",
       "    </tr>\n",
       "    <tr>\n",
       "      <th>mean</th>\n",
       "      <td>28.342368</td>\n",
       "      <td>1.382022e+01</td>\n",
       "      <td>3675.132524</td>\n",
       "      <td>1238.706687</td>\n",
       "      <td>2.035155</td>\n",
       "      <td>0.184064</td>\n",
       "      <td>0.001151</td>\n",
       "      <td>0.020030</td>\n",
       "      <td>0.103481</td>\n",
       "      <td>0.059401</td>\n",
       "      <td>2.015652</td>\n",
       "      <td>0.0</td>\n",
       "      <td>13.231306</td>\n",
       "      <td>4.125094</td>\n",
       "      <td>6.792265</td>\n",
       "      <td>41.854660</td>\n",
       "      <td>-87.673299</td>\n",
       "    </tr>\n",
       "    <tr>\n",
       "      <th>std</th>\n",
       "      <td>6.286897</td>\n",
       "      <td>3.028444e+03</td>\n",
       "      <td>2906.837601</td>\n",
       "      <td>705.983650</td>\n",
       "      <td>0.451937</td>\n",
       "      <td>0.556900</td>\n",
       "      <td>0.036770</td>\n",
       "      <td>0.165469</td>\n",
       "      <td>0.415107</td>\n",
       "      <td>0.312451</td>\n",
       "      <td>1.167690</td>\n",
       "      <td>0.0</td>\n",
       "      <td>5.538002</td>\n",
       "      <td>1.979108</td>\n",
       "      <td>3.402583</td>\n",
       "      <td>0.331965</td>\n",
       "      <td>0.674209</td>\n",
       "    </tr>\n",
       "    <tr>\n",
       "      <th>min</th>\n",
       "      <td>0.000000</td>\n",
       "      <td>0.000000e+00</td>\n",
       "      <td>0.000000</td>\n",
       "      <td>111.000000</td>\n",
       "      <td>1.000000</td>\n",
       "      <td>0.000000</td>\n",
       "      <td>0.000000</td>\n",
       "      <td>0.000000</td>\n",
       "      <td>0.000000</td>\n",
       "      <td>0.000000</td>\n",
       "      <td>0.000000</td>\n",
       "      <td>0.0</td>\n",
       "      <td>0.000000</td>\n",
       "      <td>1.000000</td>\n",
       "      <td>1.000000</td>\n",
       "      <td>0.000000</td>\n",
       "      <td>-87.935877</td>\n",
       "    </tr>\n",
       "    <tr>\n",
       "      <th>25%</th>\n",
       "      <td>30.000000</td>\n",
       "      <td>2.000000e+00</td>\n",
       "      <td>1227.000000</td>\n",
       "      <td>712.000000</td>\n",
       "      <td>2.000000</td>\n",
       "      <td>0.000000</td>\n",
       "      <td>0.000000</td>\n",
       "      <td>0.000000</td>\n",
       "      <td>0.000000</td>\n",
       "      <td>0.000000</td>\n",
       "      <td>1.000000</td>\n",
       "      <td>0.0</td>\n",
       "      <td>9.000000</td>\n",
       "      <td>2.000000</td>\n",
       "      <td>4.000000</td>\n",
       "      <td>41.781140</td>\n",
       "      <td>-87.721396</td>\n",
       "    </tr>\n",
       "    <tr>\n",
       "      <th>50%</th>\n",
       "      <td>30.000000</td>\n",
       "      <td>2.000000e+00</td>\n",
       "      <td>3200.000000</td>\n",
       "      <td>1135.000000</td>\n",
       "      <td>2.000000</td>\n",
       "      <td>0.000000</td>\n",
       "      <td>0.000000</td>\n",
       "      <td>0.000000</td>\n",
       "      <td>0.000000</td>\n",
       "      <td>0.000000</td>\n",
       "      <td>2.000000</td>\n",
       "      <td>0.0</td>\n",
       "      <td>14.000000</td>\n",
       "      <td>4.000000</td>\n",
       "      <td>7.000000</td>\n",
       "      <td>41.874790</td>\n",
       "      <td>-87.673621</td>\n",
       "    </tr>\n",
       "    <tr>\n",
       "      <th>75%</th>\n",
       "      <td>30.000000</td>\n",
       "      <td>4.000000e+00</td>\n",
       "      <td>5600.000000</td>\n",
       "      <td>1822.000000</td>\n",
       "      <td>2.000000</td>\n",
       "      <td>0.000000</td>\n",
       "      <td>0.000000</td>\n",
       "      <td>0.000000</td>\n",
       "      <td>0.000000</td>\n",
       "      <td>0.000000</td>\n",
       "      <td>2.000000</td>\n",
       "      <td>0.0</td>\n",
       "      <td>17.000000</td>\n",
       "      <td>6.000000</td>\n",
       "      <td>10.000000</td>\n",
       "      <td>41.924051</td>\n",
       "      <td>-87.632968</td>\n",
       "    </tr>\n",
       "    <tr>\n",
       "      <th>max</th>\n",
       "      <td>70.000000</td>\n",
       "      <td>1.191625e+06</td>\n",
       "      <td>451100.000000</td>\n",
       "      <td>6100.000000</td>\n",
       "      <td>18.000000</td>\n",
       "      <td>21.000000</td>\n",
       "      <td>4.000000</td>\n",
       "      <td>7.000000</td>\n",
       "      <td>21.000000</td>\n",
       "      <td>15.000000</td>\n",
       "      <td>61.000000</td>\n",
       "      <td>0.0</td>\n",
       "      <td>23.000000</td>\n",
       "      <td>7.000000</td>\n",
       "      <td>12.000000</td>\n",
       "      <td>42.022780</td>\n",
       "      <td>0.000000</td>\n",
       "    </tr>\n",
       "  </tbody>\n",
       "</table>\n",
       "</div>"
      ],
      "text/plain": [
       "       POSTED_SPEED_LIMIT      LANE_CNT      STREET_NO  BEAT_OF_OCCURRENCE  \\\n",
       "count       565687.000000  1.903210e+05  565687.000000       565682.000000   \n",
       "mean            28.342368  1.382022e+01    3675.132524         1238.706687   \n",
       "std              6.286897  3.028444e+03    2906.837601          705.983650   \n",
       "min              0.000000  0.000000e+00       0.000000          111.000000   \n",
       "25%             30.000000  2.000000e+00    1227.000000          712.000000   \n",
       "50%             30.000000  2.000000e+00    3200.000000         1135.000000   \n",
       "75%             30.000000  4.000000e+00    5600.000000         1822.000000   \n",
       "max             70.000000  1.191625e+06  451100.000000         6100.000000   \n",
       "\n",
       "           NUM_UNITS  INJURIES_TOTAL  INJURIES_FATAL  INJURIES_INCAPACITATING  \\\n",
       "count  565687.000000   564517.000000   564517.000000            564517.000000   \n",
       "mean        2.035155        0.184064        0.001151                 0.020030   \n",
       "std         0.451937        0.556900        0.036770                 0.165469   \n",
       "min         1.000000        0.000000        0.000000                 0.000000   \n",
       "25%         2.000000        0.000000        0.000000                 0.000000   \n",
       "50%         2.000000        0.000000        0.000000                 0.000000   \n",
       "75%         2.000000        0.000000        0.000000                 0.000000   \n",
       "max        18.000000       21.000000        4.000000                 7.000000   \n",
       "\n",
       "       INJURIES_NON_INCAPACITATING  INJURIES_REPORTED_NOT_EVIDENT  \\\n",
       "count                564517.000000                  564517.000000   \n",
       "mean                      0.103481                       0.059401   \n",
       "std                       0.415107                       0.312451   \n",
       "min                       0.000000                       0.000000   \n",
       "25%                       0.000000                       0.000000   \n",
       "50%                       0.000000                       0.000000   \n",
       "75%                       0.000000                       0.000000   \n",
       "max                      21.000000                      15.000000   \n",
       "\n",
       "       INJURIES_NO_INDICATION  INJURIES_UNKNOWN     CRASH_HOUR  \\\n",
       "count           564517.000000          564517.0  565687.000000   \n",
       "mean                 2.015652               0.0      13.231306   \n",
       "std                  1.167690               0.0       5.538002   \n",
       "min                  0.000000               0.0       0.000000   \n",
       "25%                  1.000000               0.0       9.000000   \n",
       "50%                  2.000000               0.0      14.000000   \n",
       "75%                  2.000000               0.0      17.000000   \n",
       "max                 61.000000               0.0      23.000000   \n",
       "\n",
       "       CRASH_DAY_OF_WEEK    CRASH_MONTH       LATITUDE      LONGITUDE  \n",
       "count      565687.000000  565687.000000  562352.000000  562352.000000  \n",
       "mean            4.125094       6.792265      41.854660     -87.673299  \n",
       "std             1.979108       3.402583       0.331965       0.674209  \n",
       "min             1.000000       1.000000       0.000000     -87.935877  \n",
       "25%             2.000000       4.000000      41.781140     -87.721396  \n",
       "50%             4.000000       7.000000      41.874790     -87.673621  \n",
       "75%             6.000000      10.000000      41.924051     -87.632968  \n",
       "max             7.000000      12.000000      42.022780       0.000000  "
      ]
     },
     "execution_count": 8,
     "metadata": {},
     "output_type": "execute_result"
    }
   ],
   "source": [
    "crash.describe()"
   ]
  },
  {
   "cell_type": "code",
   "execution_count": 9,
   "metadata": {},
   "outputs": [],
   "source": [
    "crash.fillna(value=0, inplace=True)\n"
   ]
  },
  {
   "cell_type": "code",
   "execution_count": 10,
   "metadata": {},
   "outputs": [
    {
     "data": {
      "text/plain": [
       "565687"
      ]
     },
     "execution_count": 10,
     "metadata": {},
     "output_type": "execute_result"
    }
   ],
   "source": [
    "crash.shape[0]"
   ]
  },
  {
   "cell_type": "code",
   "execution_count": 11,
   "metadata": {},
   "outputs": [
    {
     "data": {
      "text/plain": [
       "Index(['CRASH_RECORD_ID', 'RD_NO', 'CRASH_DATE_EST_I', 'CRASH_DATE',\n",
       "       'POSTED_SPEED_LIMIT', 'TRAFFIC_CONTROL_DEVICE', 'DEVICE_CONDITION',\n",
       "       'WEATHER_CONDITION', 'LIGHTING_CONDITION', 'FIRST_CRASH_TYPE',\n",
       "       'TRAFFICWAY_TYPE', 'LANE_CNT', 'ALIGNMENT', 'ROADWAY_SURFACE_COND',\n",
       "       'ROAD_DEFECT', 'REPORT_TYPE', 'CRASH_TYPE', 'INTERSECTION_RELATED_I',\n",
       "       'NOT_RIGHT_OF_WAY_I', 'HIT_AND_RUN_I', 'DAMAGE', 'DATE_POLICE_NOTIFIED',\n",
       "       'PRIM_CONTRIBUTORY_CAUSE', 'SEC_CONTRIBUTORY_CAUSE', 'STREET_NO',\n",
       "       'STREET_DIRECTION', 'STREET_NAME', 'BEAT_OF_OCCURRENCE',\n",
       "       'PHOTOS_TAKEN_I', 'STATEMENTS_TAKEN_I', 'DOORING_I', 'WORK_ZONE_I',\n",
       "       'WORK_ZONE_TYPE', 'WORKERS_PRESENT_I', 'NUM_UNITS',\n",
       "       'MOST_SEVERE_INJURY', 'INJURIES_TOTAL', 'INJURIES_FATAL',\n",
       "       'INJURIES_INCAPACITATING', 'INJURIES_NON_INCAPACITATING',\n",
       "       'INJURIES_REPORTED_NOT_EVIDENT', 'INJURIES_NO_INDICATION',\n",
       "       'INJURIES_UNKNOWN', 'CRASH_HOUR', 'CRASH_DAY_OF_WEEK', 'CRASH_MONTH',\n",
       "       'LATITUDE', 'LONGITUDE', 'LOCATION'],\n",
       "      dtype='object')"
      ]
     },
     "execution_count": 11,
     "metadata": {},
     "output_type": "execute_result"
    }
   ],
   "source": [
    "crash.columns\n",
    "\n",
    "# use posted speed limit, weather condition, lighting condition, road defect, crash hour, roadway surface conditions\n",
    "# predict injuries vs no injuries\n",
    "\n"
   ]
  },
  {
   "cell_type": "code",
   "execution_count": 28,
   "metadata": {},
   "outputs": [
    {
     "data": {
      "text/plain": [
       "NO INJURY / DRIVE AWAY              418500\n",
       "INJURY AND / OR TOW DUE TO CRASH    147187\n",
       "Name: CRASH_TYPE, dtype: int64"
      ]
     },
     "execution_count": 28,
     "metadata": {},
     "output_type": "execute_result"
    }
   ],
   "source": [
    "crash.CRASH_TYPE.value_counts()"
   ]
  },
  {
   "cell_type": "code",
   "execution_count": 12,
   "metadata": {},
   "outputs": [
    {
     "data": {
      "text/plain": [
       "6    92128\n",
       "7    83877\n",
       "5    80950\n",
       "3    80659\n",
       "4    80154\n",
       "2    78343\n",
       "1    69576\n",
       "Name: CRASH_DAY_OF_WEEK, dtype: int64"
      ]
     },
     "execution_count": 12,
     "metadata": {},
     "output_type": "execute_result"
    }
   ],
   "source": [
    "crash.CRASH_DAY_OF_WEEK.value_counts()"
   ]
  },
  {
   "cell_type": "code",
   "execution_count": 13,
   "metadata": {},
   "outputs": [
    {
     "data": {
      "text/plain": [
       "16    43298\n",
       "15    43077\n",
       "17    42332\n",
       "14    38153\n",
       "18    35165\n",
       "13    34894\n",
       "12    33528\n",
       "8     29343\n",
       "11    29067\n",
       "9     26111\n",
       "10    25910\n",
       "19    25858\n",
       "7     23663\n",
       "20    20666\n",
       "21    18466\n",
       "22    17045\n",
       "23    14492\n",
       "6     12462\n",
       "0     11948\n",
       "1     10211\n",
       "2      8700\n",
       "5      7747\n",
       "3      7116\n",
       "4      6435\n",
       "Name: CRASH_HOUR, dtype: int64"
      ]
     },
     "execution_count": 13,
     "metadata": {},
     "output_type": "execute_result"
    }
   ],
   "source": [
    "crash.CRASH_HOUR.value_counts()"
   ]
  },
  {
   "cell_type": "code",
   "execution_count": 14,
   "metadata": {},
   "outputs": [
    {
     "data": {
      "text/plain": [
       "CLEAR                       449627\n",
       "RAIN                         49376\n",
       "UNKNOWN                      25291\n",
       "SNOW                         20252\n",
       "CLOUDY/OVERCAST              16824\n",
       "OTHER                         1719\n",
       "FOG/SMOKE/HAZE                 867\n",
       "FREEZING RAIN/DRIZZLE          724\n",
       "SLEET/HAIL                     720\n",
       "BLOWING SNOW                   169\n",
       "SEVERE CROSS WIND GATE         116\n",
       "BLOWING SAND, SOIL, DIRT         2\n",
       "Name: WEATHER_CONDITION, dtype: int64"
      ]
     },
     "execution_count": 14,
     "metadata": {},
     "output_type": "execute_result"
    }
   ],
   "source": [
    "crash.WEATHER_CONDITION.value_counts()"
   ]
  },
  {
   "cell_type": "code",
   "execution_count": 27,
   "metadata": {},
   "outputs": [
    {
     "data": {
      "text/plain": [
       "0.0     489964\n",
       "1.0      57265\n",
       "2.0      12473\n",
       "3.0       3787\n",
       "4.0       1368\n",
       "5.0        490\n",
       "6.0        197\n",
       "7.0         73\n",
       "8.0         26\n",
       "9.0         16\n",
       "10.0         9\n",
       "15.0         5\n",
       "11.0         5\n",
       "21.0         3\n",
       "12.0         2\n",
       "13.0         2\n",
       "19.0         1\n",
       "16.0         1\n",
       "Name: INJURIES_TOTAL, dtype: int64"
      ]
     },
     "execution_count": 27,
     "metadata": {},
     "output_type": "execute_result"
    }
   ],
   "source": [
    "crash[\"INJURIES_TOTAL\"].value_counts()"
   ]
  },
  {
   "cell_type": "code",
   "execution_count": 26,
   "metadata": {},
   "outputs": [
    {
     "data": {
      "text/plain": [
       "{'whiskers': [<matplotlib.lines.Line2D at 0x7fe5109be6a0>,\n",
       "  <matplotlib.lines.Line2D at 0x7fe5109bea30>],\n",
       " 'caps': [<matplotlib.lines.Line2D at 0x7fe5109bedc0>,\n",
       "  <matplotlib.lines.Line2D at 0x7fe5109ce190>],\n",
       " 'boxes': [<matplotlib.lines.Line2D at 0x7fe5109be2e0>],\n",
       " 'medians': [<matplotlib.lines.Line2D at 0x7fe5109ce520>],\n",
       " 'fliers': [],\n",
       " 'means': []}"
      ]
     },
     "execution_count": 26,
     "metadata": {},
     "output_type": "execute_result"
    },
    {
     "data": {
      "image/png": "[encoded data removed]",
      "text/plain": [
       "<Figure size 432x288 with 1 Axes>"
      ]
     },
     "metadata": {},
     "output_type": "display_data"
    }
   ],
   "source": [
    "plt.boxplot(crash['INJURIES_TOTAL'], showfliers = False)"
   ]
  },
  {
   "cell_type": "code",
   "execution_count": 17,
   "metadata": {},
   "outputs": [
    {
     "data": {
      "text/plain": [
       "0.0     489964\n",
       "1.0      57265\n",
       "2.0      12473\n",
       "3.0       3787\n",
       "4.0       1368\n",
       "5.0        490\n",
       "6.0        197\n",
       "7.0         73\n",
       "8.0         26\n",
       "9.0         16\n",
       "10.0         9\n",
       "15.0         5\n",
       "11.0         5\n",
       "21.0         3\n",
       "12.0         2\n",
       "13.0         2\n",
       "19.0         1\n",
       "16.0         1\n",
       "Name: INJURIES_TOTAL, dtype: int64"
      ]
     },
     "execution_count": 17,
     "metadata": {},
     "output_type": "execute_result"
    }
   ],
   "source": [
    "crash.INJURIES_TOTAL.value_counts()"
   ]
  },
  {
   "cell_type": "markdown",
   "metadata": {},
   "source": [
    "# Does rain lead to more injuries in crashes caused by weather?"
   ]
  },
  {
   "cell_type": "code",
   "execution_count": 15,
   "metadata": {},
   "outputs": [
    {
     "ename": "NameError",
     "evalue": "name 'not_winter' is not defined",
     "output_type": "error",
     "traceback": [
      "\u001b[0;31m---------------------------------------------------------------------------\u001b[0m",
      "\u001b[0;31mNameError\u001b[0m                                 Traceback (most recent call last)",
      "\u001b[0;32m/var/folders/wz/7k6v05bx5gvffw4vkwfkmkn40000gn/T/ipykernel_85313/1678534244.py\u001b[0m in \u001b[0;36m<module>\u001b[0;34m\u001b[0m\n\u001b[0;32m----> 1\u001b[0;31m \u001b[0mnot_winter\u001b[0m\u001b[0;34m.\u001b[0m\u001b[0mCRASH_TYPE\u001b[0m\u001b[0;34m.\u001b[0m\u001b[0mvalue_counts\u001b[0m\u001b[0;34m(\u001b[0m\u001b[0;34m)\u001b[0m\u001b[0;34m/\u001b[0m\u001b[0msum\u001b[0m\u001b[0;34m(\u001b[0m\u001b[0mnot_winter\u001b[0m\u001b[0;34m.\u001b[0m\u001b[0mCRASH_TYPE\u001b[0m\u001b[0;34m.\u001b[0m\u001b[0mvalue_counts\u001b[0m\u001b[0;34m(\u001b[0m\u001b[0;34m)\u001b[0m\u001b[0;34m)\u001b[0m\u001b[0;34m\u001b[0m\u001b[0;34m\u001b[0m\u001b[0m\n\u001b[0m",
      "\u001b[0;31mNameError\u001b[0m: name 'not_winter' is not defined"
     ]
    }
   ],
   "source": [
    "not_winter.CRASH_TYPE.value_counts()/sum(not_winter.CRASH_TYPE.value_counts())"
   ]
  },
  {
   "cell_type": "code",
   "execution_count": null,
   "metadata": {},
   "outputs": [],
   "source": [
    "winter.CRASH_TYPE.value_counts()/sum(winter.CRASH_TYPE.value_counts())"
   ]
  },
  {
   "cell_type": "code",
   "execution_count": null,
   "metadata": {},
   "outputs": [],
   "source": [
    "crashes.iloc[np.where(crashes.WEATHER_CONDITION == \"CLEAR\")]"
   ]
  },
  {
   "cell_type": "code",
   "execution_count": 16,
   "metadata": {},
   "outputs": [
    {
     "name": "stdout",
     "output_type": "stream",
     "text": [
      "\n"
     ]
    },
    {
     "data": {
      "image/png": "[encoded data removed]",
      "text/plain": [
       "<Figure size 432x288 with 1 Axes>"
      ]
     },
     "metadata": {},
     "output_type": "display_data"
    }
   ],
   "source": [
    "\n",
    "crashes = crash.iloc[np.where(crash.INJURIES_TOTAL <= 3)]\n",
    "\n",
    "plt.hist(crashes.iloc[np.where(crashes.WEATHER_CONDITION == \"CLEAR\")].INJURIES_TOTAL, alpha=0.5, label=\"Above Median MPG\")\n",
    "plt.title(\"Auto Displacement Value and MPG\")\n",
    "plt.xlabel(\"Auto Displacement\")\n",
    "plt.ylabel(\"Number of Cars\")\n",
    "plt.legend()\n",
    "\n",
    "print()\n",
    "\n",
    "# visible separation between groups; displacement value is probably a good indicator\n"
   ]
  },
  {
   "cell_type": "code",
   "execution_count": null,
   "metadata": {},
   "outputs": [],
   "source": [
    "crashes = crash.iloc[np.where(crash.INJURIES_TOTAL <= 3)]\n",
    "#plt.bar(crashes.iloc[np.where(crashes.WEATHER_CONDITION == \"CLEAR\")].INJURIES_TOTAL.value_counts(normalize=True).index[:] - 0.2, crashes.iloc[np.where(crashes.WEATHER_CONDITION == \"CLEAR\")].INJURIES_TOTAL.value_counts(normalize=True).values[:], alpha=0.3, label=\"Clear\")\n",
    "#plt.bar(crashes.iloc[np.where(crashes.WEATHER_CONDITION != \"CLEAR\")].INJURIES_TOTAL.value_counts(normalize=True).index[:] + 0.2, crashes.iloc[np.where(crashes.WEATHER_CONDITION != \"CLEAR\")].INJURIES_TOTAL.value_counts(normalize=True).values[:], alpha=0.3, label=\"Inclement Weather\")\n",
    "\n",
    "plt.bar(crashes.iloc[np.where(crashes.WEATHER_CONDITION == \"CLEAR\")].INJURIES_TOTAL.value_counts(normalize=True).index[:] - 0.2, crashes.iloc[np.where(crashes.WEATHER_CONDITION == \"CLEAR\")].INJURIES_TOTAL.value_counts(normalize=True).values[:], 0.4, alpha=1, label=\"Clear\", color=\"#1E88E5\")\n",
    "plt.bar(crashes.iloc[np.where(crashes.WEATHER_CONDITION != \"CLEAR\")].INJURIES_TOTAL.value_counts(normalize=True).index[:] + 0.2, crashes.iloc[np.where(crashes.WEATHER_CONDITION != \"CLEAR\")].INJURIES_TOTAL.value_counts(normalize=True).values[:], 0.4, alpha=1, label=\"Inclement Weather\", color=\"#D81B60\")\n",
    "\n",
    "plt.title(\"Weather vs. Clear: Injury Count\")\n",
    "plt.xlabel(\"Number of Injuries\")\n",
    "plt.ylabel(\"Percent of Total Injuries\")\n",
    "plt.legend()\n",
    "\n",
    "plt.savefig(\"weather_injury.png\", dpi=300, bbox_inches=\"tight\")\n",
    "\n",
    "print()\n",
    "\n",
    "# visible separation between groups; displacement value is probably a good indicator"
   ]
  },
  {
   "cell_type": "code",
   "execution_count": null,
   "metadata": {},
   "outputs": [],
   "source": [
    "winter = crash.iloc[np.where(np.logical_or(crash.CRASH_MONTH == 1, crash.CRASH_MONTH == 12))]\n",
    "not_winter = crash.iloc[np.where(np.logical_and(crash.CRASH_MONTH != 1, crash.CRASH_MONTH != 12))]\n",
    "rain = crash.iloc[np.where(crash.WEATHER_CONDITION == \"RAIN\")]\n",
    "clear = crash.iloc[np.where(crash.WEATHER_CONDITION == \"CLEAR\")]"
   ]
  },
  {
   "cell_type": "code",
   "execution_count": null,
   "metadata": {},
   "outputs": [],
   "source": []
  },
  {
   "cell_type": "code",
   "execution_count": null,
   "metadata": {},
   "outputs": [],
   "source": [
    "rain.DAMAGE.value_counts(normalize=True)"
   ]
  },
  {
   "cell_type": "code",
   "execution_count": null,
   "metadata": {},
   "outputs": [],
   "source": [
    "clear.DAMAGE.value_counts(normalize=True)"
   ]
  },
  {
   "cell_type": "code",
   "execution_count": null,
   "metadata": {},
   "outputs": [],
   "source": [
    "#plt.hist(rain.DAMAGE.value_counts(), alpha=0.5)\n",
    "plt.bar(rain.DAMAGE.value_counts(normalize=True).index[:], rain.DAMAGE.value_counts(normalize=True).values[:], alpha=0.3)\n",
    "plt.bar(clear.DAMAGE.value_counts(normalize=True).index[:], clear.DAMAGE.value_counts(normalize=True).values[:], alpha=0.3)\n",
    "\n",
    "#plt.hist(clear.DAMAGE.value_counts(), alpha=0.5)"
   ]
  },
  {
   "cell_type": "code",
   "execution_count": null,
   "metadata": {},
   "outputs": [],
   "source": [
    "winter.DAMAGE.value_counts()/sum(winter.DAMAGE.value_counts())"
   ]
  },
  {
   "cell_type": "code",
   "execution_count": null,
   "metadata": {},
   "outputs": [],
   "source": [
    "not_winter.DAMAGE.value_counts()/sum(not_winter.DAMAGE.value_counts())"
   ]
  },
  {
   "cell_type": "code",
   "execution_count": null,
   "metadata": {},
   "outputs": [],
   "source": [
    "crash.INJURIES_TOTAL.value_counts()/sum(crash.INJURIES_TOTAL.value_counts())"
   ]
  },
  {
   "cell_type": "code",
   "execution_count": null,
   "metadata": {},
   "outputs": [],
   "source": [
    "crash.CRASH_HOUR.value_counts()/sum(crash.CRASH_HOUR.value_counts())"
   ]
  },
  {
   "cell_type": "code",
   "execution_count": null,
   "metadata": {},
   "outputs": [],
   "source": [
    "winter.CRASH_HOUR.value_counts()/sum(winter.CRASH_HOUR.value_counts())"
   ]
  },
  {
   "cell_type": "code",
   "execution_count": null,
   "metadata": {},
   "outputs": [],
   "source": [
    "#weather = crash.iloc[np.where(crash.PRIM_CONTRIBUTORY_CAUSE == \"WEATHER\")]\n",
    "weather = crash.iloc[np.where(crash.WEATHER_CONDITION != \"CLEAR\")]\n",
    "weather.WEATHER_CONDITION.value_counts()"
   ]
  },
  {
   "cell_type": "code",
   "execution_count": null,
   "metadata": {},
   "outputs": [],
   "source": [
    "crash.INJURIES_TOTAL.value_counts()/sum(crash.INJURIES_TOTAL.value_counts())"
   ]
  },
  {
   "cell_type": "code",
   "execution_count": null,
   "metadata": {},
   "outputs": [],
   "source": [
    "weather.INJURIES_TOTAL.value_counts()/sum(weather.INJURIES_TOTAL.value_counts())"
   ]
  },
  {
   "cell_type": "code",
   "execution_count": null,
   "metadata": {},
   "outputs": [],
   "source": [
    "cw = crash.iloc[np.where(crash.PRIM_CONTRIBUTORY_CAUSE == \"WEATHER\")]"
   ]
  },
  {
   "cell_type": "code",
   "execution_count": null,
   "metadata": {},
   "outputs": [],
   "source": [
    "crash.CRASH_MONTH.value_counts()"
   ]
  },
  {
   "cell_type": "code",
   "execution_count": null,
   "metadata": {},
   "outputs": [],
   "source": [
    "cw.WEATHER_CONDITION.value_counts(normalize=False)"
   ]
  },
  {
   "cell_type": "code",
   "execution_count": null,
   "metadata": {},
   "outputs": [],
   "source": [
    "cw.ROADWAY_SURFACE_COND.value_counts(normalize=False)"
   ]
  },
  {
   "cell_type": "code",
   "execution_count": null,
   "metadata": {},
   "outputs": [],
   "source": [
    "sum(cw.ROADWAY_SURFACE_COND.value_counts(normalize=False))"
   ]
  },
  {
   "cell_type": "code",
   "execution_count": null,
   "metadata": {},
   "outputs": [],
   "source": [
    "crash.INJURIES_TOTAL.value_counts()"
   ]
  },
  {
   "cell_type": "code",
   "execution_count": null,
   "metadata": {},
   "outputs": [],
   "source": [
    "8984-(3970+3453+1268)"
   ]
  },
  {
   "cell_type": "code",
   "execution_count": null,
   "metadata": {},
   "outputs": [],
   "source": [
    "plt.figure(figsize=(6,6)) \n",
    "plt.rcParams.update({'font.size': 16})\n",
    "plt.title(\"Road Condition of Crashes Caused by Weather 2016-2021\")\n",
    "\n",
    "labels = 'Wet', 'Snow/Slush', 'Ice', 'Other'\n",
    "sizes = [3970/8984, 3453/8984, 1268/8984, 777/8984]\n",
    "#explode = (0, 0, 0, 0.05, 0.05)  # only \"explode\" the 2nd slice (i.e. 'Hogs')\n",
    "\n",
    "colors = ['#C3E7AD','#D7ADE7','#B5D0F0', '#F3B19A', '#F3E89A']\n",
    "\n",
    "plt.pie(sizes, labels=labels, colors=colors,\n",
    "autopct='%1.1f%%', shadow=False, startangle=60)\n",
    "\n",
    "plt.savefig(\"weather_causes\", dpi=300, bbox_inches=\"tight\")\n",
    "\n",
    "plt.show()\n",
    "print()"
   ]
  },
  {
   "cell_type": "code",
   "execution_count": null,
   "metadata": {},
   "outputs": [],
   "source": [
    "#weather = crash.iloc[np.where(crash.PRIM_CONTRIBUTORY_CAUSE == \"WEATHER\")]\n",
    "weather = crash.iloc[np.where(np.logical_or(weather.WEATHER_CONDITION == \"CLEAR\", weather.WEATHER_CONDITION ==\"RAIN\"))]\n",
    "#weather = weather.iloc[np.where(weather.INJURIES_TOTAL >= 1)]\n",
    "weather = weather.reset_index()\n",
    "\n"
   ]
  },
  {
   "cell_type": "code",
   "execution_count": null,
   "metadata": {},
   "outputs": [],
   "source": [
    "weather.WEATHER_CONDITION.value_counts()"
   ]
  },
  {
   "cell_type": "code",
   "execution_count": null,
   "metadata": {},
   "outputs": [],
   "source": [
    "crash.INJURIES_INCAPACITATING.value_counts()"
   ]
  },
  {
   "cell_type": "code",
   "execution_count": null,
   "metadata": {},
   "outputs": [],
   "source": [
    "weather.INJURIES_INCAPACITATING.value_counts()"
   ]
  },
  {
   "cell_type": "code",
   "execution_count": null,
   "metadata": {},
   "outputs": [],
   "source": [
    "def regression(x, y):\n",
    "    xcol = x\n",
    "    ycol = y\n",
    "    \n",
    "    meanx = np.mean(xcol)\n",
    "    meany = np.mean(ycol)\n",
    "    \n",
    "    stdx = np.std(xcol)\n",
    "    stdy = np.std(ycol)\n",
    "    \n",
    "    numer = 0\n",
    "    denom = 0\n",
    "    \n",
    "    for i in range(len(x)):\n",
    "        numer += (xcol[i] - meanx) * (ycol[i] - meany)\n",
    "        denom += (xcol[i] - meanx) ** 2\n",
    "\n",
    "    slope = numer / denom\n",
    "    intercept = meany - (slope * meanx)\n",
    "    \n",
    "    return \"Slope:\", slope, \"Intercept:\", intercept\n",
    "\n",
    "def standard_units(x):\n",
    "    \"Convert any array of numbers to standard units.\"\n",
    "    return (x - np.average(x))/np.std(x,ddof=1)  \n",
    "\n",
    "def correlation(x, y):\n",
    "    x_in_standard_units = standard_units(x)\n",
    "    y_in_standard_units = standard_units(y)\n",
    "    if len(x)!=len(y):\n",
    "        raise ValueError('arrays are of different lengths')\n",
    "    return sum(x_in_standard_units * y_in_standard_units)/(len(x)-1)"
   ]
  },
  {
   "cell_type": "code",
   "execution_count": null,
   "metadata": {},
   "outputs": [],
   "source": []
  },
  {
   "cell_type": "code",
   "execution_count": null,
   "metadata": {},
   "outputs": [],
   "source": [
    "condition = np.array([])\n",
    "for i in range(len(weather)):\n",
    "    if weather.WEATHER_CONDITION[i] == \"CLEAR\":\n",
    "        condition = np.append(condition, 0)\n",
    "    elif weather.WEATHER_CONDITION[i] == \"RAIN\":\n",
    "        condition = np.append(condition, 1)"
   ]
  },
  {
   "cell_type": "code",
   "execution_count": null,
   "metadata": {},
   "outputs": [],
   "source": [
    "weather.WEATHER_CONDITION\n",
    "np.count_nonzero(condition == 1)"
   ]
  },
  {
   "cell_type": "code",
   "execution_count": null,
   "metadata": {},
   "outputs": [],
   "source": []
  },
  {
   "cell_type": "code",
   "execution_count": null,
   "metadata": {},
   "outputs": [],
   "source": [
    "injury = np.array([])\n",
    "\n",
    "for i in range(len(weather)):\n",
    "    if weather.INJURIES_TOTAL[i] == 1:\n",
    "        injury = np.append(injury, 0)\n",
    "    else:\n",
    "        injury = np.append(injury, 1)"
   ]
  },
  {
   "cell_type": "code",
   "execution_count": null,
   "metadata": {},
   "outputs": [],
   "source": []
  },
  {
   "cell_type": "code",
   "execution_count": null,
   "metadata": {},
   "outputs": [],
   "source": [
    "len(injury), len(condition)"
   ]
  },
  {
   "cell_type": "code",
   "execution_count": null,
   "metadata": {},
   "outputs": [],
   "source": [
    "regression((condition), (weather.INJURIES_TOTAL))"
   ]
  },
  {
   "cell_type": "code",
   "execution_count": null,
   "metadata": {},
   "outputs": [],
   "source": [
    "plt.scatter(condition, weather.INJURIES_TOTAL)\n",
    "plt.title(\"Weather Condition vs. Total Injuries \\n Regression 2016-2021\")\n",
    "plt.xlabel(\"Clear vs. Rain\")\n",
    "plt.ylabel(\"# Injuries\")\n",
    "\n",
    "x = np.linspace(np.min(condition), np.max(condition),60)\n",
    "y = 0.03895057220501825*x + 0.20695106713925018\n",
    "plt.plot(x, y, '-r')\n",
    "\n",
    "plt.savefig(\"rain_regression\", dpi=300, bbox_inches=\"tight\")\n",
    "\n",
    "print()"
   ]
  },
  {
   "cell_type": "code",
   "execution_count": null,
   "metadata": {},
   "outputs": [],
   "source": [
    "weather_snow = crash.iloc[np.where(np.logical_or(crash.WEATHER_CONDITION == \"CLEAR\", crash.WEATHER_CONDITION ==\"SNOW\"))]\n",
    "snow_condition = np.array([])\n",
    "for i in range(len(weather_snow)):\n",
    "    if weather_snow.WEATHER_CONDITION[i] == \"CLEAR\":\n",
    "        snow_condition = np.append(snow_condition, 0)\n",
    "    elif weather_snow.WEATHER_CONDITION[i] == \"SNOW\":\n",
    "        snow_condition = np.append(snow_condition, 1)\n"
   ]
  },
  {
   "cell_type": "code",
   "execution_count": null,
   "metadata": {},
   "outputs": [],
   "source": [
    "plt.scatter(condition, weather.INJURIES_TOTAL)\n",
    "plt.title(\"Weather Condition vs. Total Injuries \\n Regression 2016-2021\")\n",
    "plt.xlabel(\"Clear vs. Rain\")\n",
    "plt.ylabel(\"# Injuries\")\n",
    "\n",
    "x = np.linspace(np.min(condition), np.max(condition),60)\n",
    "y = 0.03895057220501825*x + 0.20695106713925018\n",
    "plt.plot(x, y, '-r')\n",
    "\n",
    "plt.savefig(\"rain_regression\", dpi=300, bbox_inches=\"tight\")\n",
    "\n",
    "print()"
   ]
  },
  {
   "cell_type": "code",
   "execution_count": null,
   "metadata": {},
   "outputs": [],
   "source": [
    "weather.INJURIES_TOTAL.value_counts()"
   ]
  },
  {
   "cell_type": "code",
   "execution_count": null,
   "metadata": {},
   "outputs": [],
   "source": [
    "crash.CRASH_TYPE.value_counts()"
   ]
  },
  {
   "cell_type": "code",
   "execution_count": null,
   "metadata": {},
   "outputs": [],
   "source": [
    "types = np.array([])\n",
    "\n",
    "CRASH_TYPE\n",
    "for i in range(len(weather)):\n",
    "    if weather.CRASH_TYPE[i] == \"NO INJURY / DRIVE AWAY\":\n",
    "        cost = np.append(cost, 0)\n",
    "    elif weather.CRASH_TYPE[i] == \"$501 - $1,500\""
   ]
  },
  {
   "cell_type": "code",
   "execution_count": null,
   "metadata": {},
   "outputs": [],
   "source": [
    "cost = np.array([])\n",
    "\n",
    "for i in range(len(weather)):\n",
    "    if weather.DAMAGE[i] == \"$500 OR LESS\":\n",
    "        cost = np.append(cost, 0)\n",
    "    elif weather.DAMAGE[i] == \"$501 - $1,500\":\n",
    "        cost = np.append(cost, 1)\n",
    "    elif weather.DAMAGE[i] == \"OVER $1,500\":\n",
    "        cost = np.append(cost, 2)"
   ]
  },
  {
   "cell_type": "code",
   "execution_count": null,
   "metadata": {},
   "outputs": [],
   "source": [
    "len(cost) == len(condition)"
   ]
  },
  {
   "cell_type": "code",
   "execution_count": null,
   "metadata": {},
   "outputs": [],
   "source": [
    "regression(condition, injury)"
   ]
  },
  {
   "cell_type": "code",
   "execution_count": null,
   "metadata": {},
   "outputs": [],
   "source": [
    "correlation(condition, injury)"
   ]
  },
  {
   "cell_type": "code",
   "execution_count": null,
   "metadata": {},
   "outputs": [],
   "source": []
  },
  {
   "cell_type": "code",
   "execution_count": null,
   "metadata": {},
   "outputs": [],
   "source": []
  },
  {
   "cell_type": "code",
   "execution_count": null,
   "metadata": {},
   "outputs": [],
   "source": []
  },
  {
   "cell_type": "code",
   "execution_count": null,
   "metadata": {},
   "outputs": [],
   "source": [
    "predict = pd.DataFrame({})\n",
    "# use posted speed limit, weather condition, lighting condition, road defect, crash hour, roadway surface conditions\n"
   ]
  },
  {
   "cell_type": "code",
   "execution_count": null,
   "metadata": {},
   "outputs": [],
   "source": [
    "crash.ROAD_DEFECT.value_counts()\n",
    "\n",
    "defects = np.array([])\n",
    "\n",
    "for i in range(len(crash)):\n",
    "    if crash.ROAD_DEFECT[i] == \"NO DEFECTS\":\n",
    "        defects = np.append(defects, 0)\n",
    "    else:\n",
    "        defects = np.append(defects, 1)"
   ]
  },
  {
   "cell_type": "code",
   "execution_count": null,
   "metadata": {},
   "outputs": [],
   "source": [
    "crash.WEATHER_CONDITION.value_counts()"
   ]
  },
  {
   "cell_type": "code",
   "execution_count": null,
   "metadata": {},
   "outputs": [],
   "source": [
    "weather = np.array([])\n",
    "\n",
    "for i in range(len(crash)):\n",
    "    if crash.WEATHER_CONDITION[i] == \"RAIN\":\n",
    "        weather = np.append(weather, 1)\n",
    "    elif crash.WEATHER_CONDITION[i] == \"SNOW\":\n",
    "        weather = np.append(weather, 2)\n",
    "    elif crash.WEATHER_CONDITION[i] == \"CLOUDY/OVERCAST\":\n",
    "        weather = np.append(weather, 3)\n",
    "    elif crash.WEATHER_CONDITION[i] == \"FREEZING RAIN/DRIZZLE\":\n",
    "        weather = np.append(weather, 4)\n",
    "    elif crash.WEATHER_CONDITION[i] == \"FOG/SMOKE/HAZE\":\n",
    "        weather = np.append(weather, 5)\n",
    "    elif crash.WEATHER_CONDITION[i] == \"SLEET/HAIL\":\n",
    "        weather = np.append(weather, 6)\n",
    "    elif crash.WEATHER_CONDITION[i] == \"BLOWING SNOW\":\n",
    "        weather = np.append(weather, 7)\n",
    "    elif crash.WEATHER_CONDITION[i] == \"SEVERE CROSS WIND GATE\":\n",
    "        weather = np.append(weather, 8)\n",
    "    elif crash.WEATHER_CONDITION[i] == \"BLOWING SAND, SOIL, DIRT\":\n",
    "        weather = np.append(weather, 9)   "
   ]
  },
  {
   "cell_type": "code",
   "execution_count": null,
   "metadata": {},
   "outputs": [],
   "source": []
  },
  {
   "cell_type": "code",
   "execution_count": null,
   "metadata": {},
   "outputs": [],
   "source": [
    "crash.LIGHTING_CONDITION.value_counts()\n",
    "\n",
    "lighting = np.array([])\n",
    "\n",
    "for i in range(len(crash)):\n",
    "    if crash.LIGHTING_CONDITION[i] == \"DAYLIGHT\":\n",
    "        lighting = np.append(lighting, 0)\n",
    "    else:\n",
    "        lighting = np.append(lighting, 1)"
   ]
  },
  {
   "cell_type": "code",
   "execution_count": null,
   "metadata": {},
   "outputs": [],
   "source": [
    "crash.ROADWAY_SURFACE_COND.value_counts()\n",
    "\n",
    "conditions = np.array([])\n",
    "\n",
    "for i in range(len(crash)):\n",
    "    if crash.ROADWAY_SURFACE_COND[i] == \"DRY\":\n",
    "        conditions = np.append(conditions, 0)\n",
    "    else:\n",
    "        conditions = np.append(conditions, 1)"
   ]
  },
  {
   "cell_type": "code",
   "execution_count": null,
   "metadata": {},
   "outputs": [],
   "source": [
    "crash.INJURIES_TOTAL.value_counts()\n",
    "\n",
    "injuries = np.array([])\n",
    "\n",
    "for i in range(len(crash)):\n",
    "    if crash.INJURIES_TOTAL[i] >= 1:\n",
    "        injuries = np.append(injuries, 0)\n",
    "    else:\n",
    "        injuries = np.append(injuries, 1)"
   ]
  },
  {
   "cell_type": "code",
   "execution_count": null,
   "metadata": {},
   "outputs": [],
   "source": [
    "def su(column):\n",
    "    \"Convert a dataframe column to standard units.\"\n",
    "    x = predict[column].tolist()\n",
    "    return (x - np.average(x))/np.std(x,ddof=1)"
   ]
  },
  {
   "cell_type": "code",
   "execution_count": null,
   "metadata": {},
   "outputs": [],
   "source": [
    "predict = predict.iloc[:500]"
   ]
  },
  {
   "cell_type": "code",
   "execution_count": null,
   "metadata": {},
   "outputs": [],
   "source": [
    "predict[\"defects\"] = defects\n",
    "predict[\"conditions\"] = conditions\n",
    "predict[\"lighting\"] = lighting\n",
    "predict[\"weather\"] = weather\n",
    "predict[\"speed_limit\"] = crash.POSTED_SPEED_LIMIT\n",
    "predict[\"hour\"] = crash.iloc[:500].CRASH_HOUR\n",
    "predict[\"injuries\"] = injuries"
   ]
  },
  {
   "cell_type": "code",
   "execution_count": null,
   "metadata": {},
   "outputs": [],
   "source": [
    "predict.defects = su(\"defects\")\n",
    "predict.conditions = su(\"conditions\")\n",
    "predict.lighting = su(\"lighting\")\n",
    "predict.weather = su(\"weather\")\n",
    "predict.speed_limit = su(\"speed_limit\")\n",
    "predict.hour = su(\"hour\")\n",
    "predict.injuries = su(\"injuries\")"
   ]
  },
  {
   "cell_type": "code",
   "execution_count": null,
   "metadata": {},
   "outputs": [],
   "source": [
    "predict"
   ]
  },
  {
   "cell_type": "code",
   "execution_count": null,
   "metadata": {},
   "outputs": [],
   "source": [
    "def standard_units(x):\n",
    "    \"Convert any array of numbers to standard units.\"\n",
    "    return (x - np.average(x))/np.std(x,ddof=1)  \n",
    "\n",
    "def correlation(x, y):\n",
    "    x_in_standard_units = standard_units(x)\n",
    "    y_in_standard_units = standard_units(y)\n",
    "    if len(x)!=len(y):\n",
    "        raise ValueError('arrays are of different lengths')\n",
    "    return sum(x_in_standard_units * y_in_standard_units)/(len(x)-1)"
   ]
  },
  {
   "cell_type": "code",
   "execution_count": null,
   "metadata": {},
   "outputs": [],
   "source": [
    "correlation(predict.defects, predict.injuries), \\\n",
    "correlation(predict.conditions, predict.injuries), \\\n",
    "correlation(predict.lighting, predict.injuries), \\\n",
    "correlation(predict.weather, predict.injuries), \\\n",
    "correlation(predict.speed_limit, predict.injuries), \\\n",
    "correlation(predict.hour, predict.injuries)"
   ]
  },
  {
   "cell_type": "code",
   "execution_count": null,
   "metadata": {},
   "outputs": [],
   "source": []
  },
  {
   "cell_type": "code",
   "execution_count": null,
   "metadata": {},
   "outputs": [],
   "source": [
    "len(predict)"
   ]
  },
  {
   "cell_type": "code",
   "execution_count": null,
   "metadata": {},
   "outputs": [],
   "source": [
    "sim = predict.sample(frac=1)\n",
    "\n",
    "x_train=sim.iloc[1000:4000].drop(columns=['injuries'])\n",
    "x_test=sim.iloc[0:1000].drop(columns=['injuries'])\n",
    "y_train=sim.iloc[1000:4000].injuries\n",
    "y_test=sim.iloc[0:1000].injuries\n",
    "\n",
    "x_train.head(2)"
   ]
  },
  {
   "cell_type": "code",
   "execution_count": null,
   "metadata": {},
   "outputs": [],
   "source": [
    "def distance(pt1, pt2):\n",
    "    return np.sqrt(sum((pt1 - pt2)**2))\n",
    "\n",
    "def all_distances(X_train, point):\n",
    "    attributes = X_train.copy()\n",
    "    def distance_from_point(row):\n",
    "        return distance(point, np.array(row))\n",
    "    return attributes.apply(distance_from_point,axis=1)\n",
    "\n",
    "def closest(X_train, Y_train, point, k):\n",
    "    attributes=X_train.copy()\n",
    "    attributes['Distance']=all_distances(attributes, point)\n",
    "    attributes['Class']=Y_train\n",
    "    attributes=attributes.sort_values('Distance')    \n",
    "    topk = attributes.head(k)\n",
    "    return topk\n",
    "\n",
    "def majority(topkclasses):\n",
    "    ones = topkclasses[topkclasses.Class==1].shape[0]\n",
    "    zeros = topkclasses[topkclasses.Class==0].shape[0]\n",
    "    if ones > zeros:\n",
    "        return 1\n",
    "    else:\n",
    "        return 0\n",
    "\n",
    "def classify(X_train,Y_train, X_test, k):\n",
    "    n=X_test.shape[0]\n",
    "    \n",
    "    pred_class = np.array([])\n",
    "    for i in np.arange(n):\n",
    "        topkclasses = closest(X_train,Y_train, X_test.iloc[i], k)\n",
    "        pred_class = np.append(pred_class,majority(topkclasses))\n",
    "    \n",
    "    report_df=X_test.copy()\n",
    "    report_df['Class']=pred_class\n",
    "    \n",
    "    return report_df"
   ]
  },
  {
   "cell_type": "code",
   "execution_count": null,
   "metadata": {},
   "outputs": [],
   "source": [
    "class_df=classify(x_train,y_train, x_test, 5)\n",
    "class_df.head(2)"
   ]
  },
  {
   "cell_type": "code",
   "execution_count": null,
   "metadata": {},
   "outputs": [],
   "source": []
  },
  {
   "cell_type": "code",
   "execution_count": null,
   "metadata": {},
   "outputs": [],
   "source": []
  },
  {
   "cell_type": "code",
   "execution_count": null,
   "metadata": {},
   "outputs": [],
   "source": []
  },
  {
   "cell_type": "code",
   "execution_count": null,
   "metadata": {},
   "outputs": [],
   "source": [
    "1 - 527616/len(crash)\n",
    "# 13.5% of the crashes involved at least one injury"
   ]
  },
  {
   "cell_type": "code",
   "execution_count": null,
   "metadata": {},
   "outputs": [],
   "source": [
    "crash.dt_col = pd.to_datetime(crash.CRASH_DATE)"
   ]
  },
  {
   "cell_type": "code",
   "execution_count": null,
   "metadata": {},
   "outputs": [],
   "source": [
    "crash.groupby(pd.to_datetime(crash.CRASH_DATE).year).CRASH_DAY_OF_WEEK.size()"
   ]
  },
  {
   "cell_type": "code",
   "execution_count": null,
   "metadata": {},
   "outputs": [],
   "source": [
    "plt.barh(crash.CRASH_DAY_OF_WEEK.value_counts().index[:], crash.CRASH_DAY_OF_WEEK.value_counts().values[:], color=\"#6bb0ff\")\n",
    "\n",
    "plt.yticks(ticks=[1,2,3,4,5,6,7], labels=[\"Sunday\",\"Monday\", \"Tuesday\", \"Wednesday\", \"Thursday\", \"Friday\", \"Saturday\"])\n",
    "plt.ylabel(\"Day of Week\", labelpad=10)\n",
    "plt.xlabel(\"Number of Crashes\", labelpad=10)\n",
    "plt.title(\"Total Number of Crashes 2016-2021 vs Day of Week\", pad=15)\n",
    "\n",
    "plt.savefig('day_of_week_dist.png', dpi=300, bbox_inches=\"tight\")\n",
    "\n",
    "# I want the average number of crashes per day of week \n",
    "# groupby day, then average the number of occurences by the number of unique Sundays, etc.\n",
    "\n",
    "print()\n"
   ]
  },
  {
   "cell_type": "code",
   "execution_count": null,
   "metadata": {},
   "outputs": [],
   "source": [
    "crash.iloc[np.where(crash.WEATHER_CONDITION == \"RAIN\")].INJURIES_TOTAL.value_counts(normalize=True)"
   ]
  },
  {
   "cell_type": "code",
   "execution_count": null,
   "metadata": {},
   "outputs": [],
   "source": [
    "sum(crash.CRASH_DAY_OF_WEEK.value_counts())"
   ]
  },
  {
   "cell_type": "code",
   "execution_count": null,
   "metadata": {},
   "outputs": [],
   "source": [
    "crash.iloc[np.where(crash.WEATHER_CONDITION == \"CLEAR\")].INJURIES_TOTAL.value_counts(normalize=True)"
   ]
  },
  {
   "cell_type": "code",
   "execution_count": null,
   "metadata": {},
   "outputs": [],
   "source": [
    "rain = np.array([])\n",
    "\n",
    "for i in range(len(crash)):\n",
    "    if crash.WEATHER_CONDITION[i] == \"CLEAR\":\n",
    "        rain = np.append(rain, 0)\n",
    "    elif crash.WEATHER_CONDITION[i] == \"RAIN\":\n",
    "        rain = np.append(rain, 1)"
   ]
  },
  {
   "cell_type": "code",
   "execution_count": null,
   "metadata": {},
   "outputs": [],
   "source": [
    "weather = crash.iloc[np.where(np.logical_or(crash.WEATHER_CONDITION == \"CLEAR\", crash.WEATHER_CONDITION ==\"RAIN\"))]\n"
   ]
  },
  {
   "cell_type": "code",
   "execution_count": null,
   "metadata": {},
   "outputs": [],
   "source": [
    "weather = crash.iloc[np.where(np.logical_or(crash.WEATHER_CONDITION == \"CLEAR\", crash.WEATHER_CONDITION ==\"RAIN\"))]\n"
   ]
  },
  {
   "cell_type": "code",
   "execution_count": null,
   "metadata": {},
   "outputs": [],
   "source": [
    "injuries = np.array([])\n",
    "\n",
    "for i in range(len(weather)):\n",
    "    if weather.INJURIES_TOTAL[i] >= 1:\n",
    "        injuries = np.append(injuries, 1)\n",
    "    else:\n",
    "        injuries = np.append(injuries, 0)"
   ]
  },
  {
   "cell_type": "code",
   "execution_count": null,
   "metadata": {},
   "outputs": [],
   "source": [
    "len(injure)"
   ]
  },
  {
   "cell_type": "code",
   "execution_count": null,
   "metadata": {},
   "outputs": [],
   "source": [
    "correlation(rain, injure)"
   ]
  },
  {
   "cell_type": "code",
   "execution_count": null,
   "metadata": {},
   "outputs": [],
   "source": []
  },
  {
   "cell_type": "markdown",
   "metadata": {},
   "source": [
    "# Most frequent: hour, month, day of the week, street, type of crash, weather + road condition"
   ]
  },
  {
   "cell_type": "code",
   "execution_count": null,
   "metadata": {},
   "outputs": [],
   "source": [
    "# average crashes per year\n",
    "\n",
    "year = pd.DatetimeIndex(crash['CRASH_DATE']).year\n",
    "date = pd.to_datetime(crash['CRASH_DATE']).dt.date\n",
    "crash[\"date\"] = date\n",
    "day = crash.CRASH_DAY_OF_WEEK\n",
    "month = crash.CRASH_MONTH\n"
   ]
  },
  {
   "cell_type": "code",
   "execution_count": null,
   "metadata": {},
   "outputs": [],
   "source": [
    "year.value_counts()"
   ]
  },
  {
   "cell_type": "code",
   "execution_count": null,
   "metadata": {},
   "outputs": [],
   "source": [
    "plt.barh((crash.CRASH_DAY_OF_WEEK.value_counts()/per_day.CRASH_DAY_OF_WEEK.value_counts()).index[:], crash.CRASH_DAY_OF_WEEK.value_counts()/per_day.CRASH_DAY_OF_WEEK.value_counts().values[:], color=\"#ff907d\")\n",
    "\n",
    "plt.yticks(ticks=[1,2,3,4,5,6,7], labels=[\"Sunday\",\"Monday\", \"Tuesday\", \"Wednesday\", \"Thursday\", \"Friday\", \"Saturday\"])\n",
    "plt.ylabel(\"Day of Week\", labelpad=10)\n",
    "plt.xlabel(\"Average Number of Crashes per Day\", labelpad=10)\n",
    "plt.title(\"Average Number of Crashes 2016-2021 per Week Day\", pad=15)\n",
    "\n",
    "plt.savefig('ave_day_of_week_dist.png', dpi=300, bbox_inches=\"tight\")\n",
    "\n",
    "# I want the average number of crashes per day of week \n",
    "# groupby day, then average the number of occurences by the number of unique Sundays, etc.\n",
    "\n",
    "print()\n"
   ]
  },
  {
   "cell_type": "code",
   "execution_count": null,
   "metadata": {},
   "outputs": [],
   "source": [
    "plt.barh(crash.CRASH_DAY_OF_WEEK.value_counts().index[:], crash.CRASH_DAY_OF_WEEK.value_counts().values[:], color=\"#6bb0ff\")\n",
    "\n",
    "plt.yticks(ticks=[1,2,3,4,5,6,7], labels=[\"Sunday\",\"Monday\", \"Tuesday\", \"Wednesday\", \"Thursday\", \"Friday\", \"Saturday\"])\n",
    "plt.ylabel(\"Day of Week\", labelpad=10)\n",
    "plt.xlabel(\"Total Number of Crashes per Week Day Label\", labelpad=10)\n",
    "plt.title(\"Total Number of Crashes 2016-2021 vs Day of Week\", pad=15)\n",
    "\n",
    "plt.savefig('day_of_week_dist.png', dpi=300, bbox_inches=\"tight\")\n",
    "\n",
    "# I want the average number of crashes per day of week \n",
    "# groupby day, then average the number of occurences by the number of unique Sundays, etc.\n",
    "\n",
    "print()\n"
   ]
  },
  {
   "cell_type": "code",
   "execution_count": null,
   "metadata": {},
   "outputs": [],
   "source": [
    "per_day = crash.drop_duplicates(subset=\"date\")"
   ]
  },
  {
   "cell_type": "code",
   "execution_count": null,
   "metadata": {
    "scrolled": true
   },
   "outputs": [],
   "source": [
    "sum(year.value_counts())/len(np.unique(year))"
   ]
  },
  {
   "cell_type": "code",
   "execution_count": null,
   "metadata": {},
   "outputs": [],
   "source": [
    "day.value_counts()"
   ]
  },
  {
   "cell_type": "code",
   "execution_count": null,
   "metadata": {},
   "outputs": [],
   "source": [
    "year.value_counts().mean()"
   ]
  },
  {
   "cell_type": "code",
   "execution_count": null,
   "metadata": {},
   "outputs": [],
   "source": [
    "sum(year.value_counts())/len(np.unique(date))"
   ]
  },
  {
   "cell_type": "code",
   "execution_count": null,
   "metadata": {},
   "outputs": [],
   "source": [
    "date"
   ]
  },
  {
   "cell_type": "code",
   "execution_count": null,
   "metadata": {},
   "outputs": [],
   "source": [
    "date = date.sort_values()\n",
    "date"
   ]
  },
  {
   "cell_type": "code",
   "execution_count": null,
   "metadata": {},
   "outputs": [],
   "source": [
    "dated = pd.DataFrame({\n",
    "    \"date\": date.sort_values(ascending=True),\n",
    "    \"count\": \n",
    "})"
   ]
  },
  {
   "cell_type": "code",
   "execution_count": null,
   "metadata": {},
   "outputs": [],
   "source": [
    "plt.plot(date, lake_levels)   \n",
    "plt.xlabel('Year')   \n",
    "plt.ylabel('Level (in meters)')\n",
    "plt.title(\"Timeseries of Monthly Lake Levels of Lake Michigan\")\n",
    "\n",
    "print()"
   ]
  },
  {
   "cell_type": "code",
   "execution_count": null,
   "metadata": {},
   "outputs": [],
   "source": [
    "date.value_counts(sort=False)"
   ]
  },
  {
   "cell_type": "code",
   "execution_count": null,
   "metadata": {},
   "outputs": [],
   "source": [
    "date."
   ]
  },
  {
   "cell_type": "code",
   "execution_count": null,
   "metadata": {},
   "outputs": [],
   "source": [
    "#plt.plot(date.value_counts().index[:], date.value_counts().values[:], color=\"#6bb0ff\")\n",
    "plt.plot(per_day.date, per.value_counts())\n",
    "\n",
    "plt.ylabel(\"Number on Date\")\n",
    "plt.xlabel(\"Date\")\n",
    "plt.title(\"Number of Crashes vs Day of Week\")\n",
    "\n",
    "# I want the average number of crashes per day of week \n",
    "# groupby day, then average the number of occurences by the number of unique Sundays, etc.\n",
    "\n",
    "print()"
   ]
  },
  {
   "cell_type": "code",
   "execution_count": null,
   "metadata": {},
   "outputs": [],
   "source": [
    "date.value_counts().mean()"
   ]
  },
  {
   "cell_type": "code",
   "execution_count": null,
   "metadata": {},
   "outputs": [],
   "source": [
    "sum(date.value_counts())/len(np.unique(date))"
   ]
  },
  {
   "cell_type": "code",
   "execution_count": null,
   "metadata": {},
   "outputs": [],
   "source": [
    "month.value_counts()"
   ]
  },
  {
   "cell_type": "code",
   "execution_count": null,
   "metadata": {},
   "outputs": [],
   "source": [
    "crash.LOCATION.value_counts()"
   ]
  },
  {
   "cell_type": "code",
   "execution_count": null,
   "metadata": {},
   "outputs": [],
   "source": []
  }
 ],
 "metadata": {
  "kernelspec": {
   "display_name": "Python 3 (ipykernel)",
   "language": "python",
   "name": "python3"
  },
  "language_info": {
   "codemirror_mode": {
    "name": "ipython",
    "version": 3
   },
   "file_extension": ".py",
   "mimetype": "text/x-python",
   "name": "python",
   "nbconvert_exporter": "python",
   "pygments_lexer": "ipython3",
   "version": "3.9.7"
  }
 },
 "nbformat": 4,
 "nbformat_minor": 4
}
